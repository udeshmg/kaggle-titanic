{
 "cells": [
  {
   "cell_type": "code",
   "execution_count": 8,
   "metadata": {
    "colab": {},
    "colab_type": "code",
    "id": "LpaarpAnWHkY"
   },
   "outputs": [],
   "source": [
    "import copy\n",
    "import seaborn as sns\n",
    "from pathlib import Path\n",
    "\n",
    "import numpy as np\n",
    "import pandas as pd\n",
    "\n",
    "from sklearn.preprocessing import StandardScaler\n",
    "from sklearn.impute import SimpleImputer\n",
    "from sklearn.compose import ColumnTransformer\n",
    "from sklearn.linear_model import LogisticRegression, SGDClassifier\n",
    "from sklearn.gaussian_process import GaussianProcessClassifier\n",
    "from sklearn.ensemble import GradientBoostingClassifier, RandomForestClassifier, BaggingClassifier\n",
    "from sklearn.ensemble import StackingClassifier\n",
    "#from sklearn.pipeline import Pipeline\n",
    "from imblearn.pipeline import Pipeline\n",
    "\n",
    "from imblearn.over_sampling import SMOTE, ADASYN\n",
    "from imblearn.under_sampling import RandomUnderSampler\n",
    "\n",
    "from sklearn.model_selection import train_test_split\n",
    "\n",
    "from sklearn.preprocessing import OneHotEncoder\n",
    "import xgboost as xgb\n",
    "from xgboost.sklearn import XGBClassifier\n",
    "from sklearn.linear_model import SGDClassifier\n",
    "from sklearn.neural_network import MLPClassifier\n",
    "\n",
    "from sklearn.metrics import f1_score\n",
    "from sklearn.utils import resample\n",
    "\n",
    "from sklearn.preprocessing import PolynomialFeatures, PowerTransformer\n",
    "from sklearn.preprocessing import FunctionTransformer\n",
    "from sklearn.feature_selection import SelectKBest\n",
    "from sklearn.feature_selection import chi2\n",
    "\n",
    "from sklearn.naive_bayes import GaussianNB\n",
    "from sklearn.neighbors import KNeighborsClassifier\n",
    "\n",
    "from sklearn.ensemble import RandomForestClassifier\n",
    "from sklearn.ensemble import GradientBoostingClassifier\n",
    "from sklearn.svm import SVC\n",
    "from sklearn.model_selection import GridSearchCV  \n",
    "\n",
    "RANDOM_SEED = 8    # Set a random seed for reproducibility!"
   ]
  },
  {
   "cell_type": "code",
   "execution_count": 2,
   "metadata": {
    "colab": {
     "base_uri": "https://localhost:8080/",
     "height": 252
    },
    "colab_type": "code",
    "id": "5XwotHKhSrOS",
    "outputId": "6815fae5-4bac-4424-d934-7cd154d06cc8"
   },
   "outputs": [
    {
     "name": "stdout",
     "output_type": "stream",
     "text": [
      "labels_df.shape (17176, 1)\n"
     ]
    },
    {
     "data": {
      "text/html": [
       "<div>\n",
       "<style scoped>\n",
       "    .dataframe tbody tr th:only-of-type {\n",
       "        vertical-align: middle;\n",
       "    }\n",
       "\n",
       "    .dataframe tbody tr th {\n",
       "        vertical-align: top;\n",
       "    }\n",
       "\n",
       "    .dataframe thead th {\n",
       "        text-align: right;\n",
       "    }\n",
       "</style>\n",
       "<table border=\"1\" class=\"dataframe\">\n",
       "  <thead>\n",
       "    <tr style=\"text-align: right;\">\n",
       "      <th></th>\n",
       "      <th>label</th>\n",
       "    </tr>\n",
       "    <tr>\n",
       "      <th>tripid</th>\n",
       "      <th></th>\n",
       "    </tr>\n",
       "  </thead>\n",
       "  <tbody>\n",
       "    <tr>\n",
       "      <th>189123628</th>\n",
       "      <td>1</td>\n",
       "    </tr>\n",
       "    <tr>\n",
       "      <th>189125358</th>\n",
       "      <td>1</td>\n",
       "    </tr>\n",
       "    <tr>\n",
       "      <th>189125719</th>\n",
       "      <td>1</td>\n",
       "    </tr>\n",
       "    <tr>\n",
       "      <th>189127273</th>\n",
       "      <td>1</td>\n",
       "    </tr>\n",
       "    <tr>\n",
       "      <th>189128020</th>\n",
       "      <td>1</td>\n",
       "    </tr>\n",
       "  </tbody>\n",
       "</table>\n",
       "</div>"
      ],
      "text/plain": [
       "           label\n",
       "tripid          \n",
       "189123628      1\n",
       "189125358      1\n",
       "189125719      1\n",
       "189127273      1\n",
       "189128020      1"
      ]
     },
     "execution_count": 2,
     "metadata": {},
     "output_type": "execute_result"
    }
   ],
   "source": [
    "\n",
    "\n",
    "pd.set_option(\"display.max_columns\", 100)\n",
    "\n",
    "\n",
    "\n",
    "train_df = pd.read_csv(\n",
    "    \"train.csv\", \n",
    "    index_col=\"tripid\"\n",
    ")\n",
    "test_features_df = pd.read_csv(\n",
    "    \"test.csv\", \n",
    "    index_col=\"tripid\"\n",
    ")\n",
    "\n",
    "labels_df = train_df[['label']]\n",
    "features_df = train_df.drop('label', axis=1)\n",
    "\n",
    "labels_df=labels_df.replace(\"correct\", 1)\n",
    "labels_df=labels_df.replace(\"incorrect\", 0)\n",
    "labels_df\n",
    "print(\"labels_df.shape\", labels_df.shape)\n",
    "labels_df.head()"
   ]
  },
  {
   "cell_type": "code",
   "execution_count": 266,
   "metadata": {
    "colab": {},
    "colab_type": "code",
    "id": "7W5VVbhvzRfg"
   },
   "outputs": [],
   "source": [
    "def hoursToMin(time):\n",
    "    return 60*time.hour + time.minute\n",
    "\n",
    "def convertTime(dataFrame):\n",
    "    new_df = copy.deepcopy(dataFrame)\n",
    "    \n",
    "    new_df[\"effective_time\"] = dataFrame[\"duration\"]-dataFrame[\"meter_waiting\"]\n",
    "    \n",
    "    new_df['pickup_time'] = dataFrame['pickup_time'].astype('datetime64[m]')\n",
    "    new_df['drop_time'] = dataFrame['drop_time'].astype('datetime64[m]')\n",
    "    \n",
    "    new_df['pickup_time'] = new_df['pickup_time'].apply(lambda x : hoursToMin(x))\n",
    "    new_df['drop_time'] = new_df['drop_time'].apply(lambda x : hoursToMin(x))\n",
    "    new_df = new_df.drop(['pickup_time', 'drop_time'], axis=1)\n",
    "    return new_df\n",
    "\n",
    "# Custom transformer\n",
    "timeTransformer = FunctionTransformer(convertTime)"
   ]
  },
  {
   "cell_type": "code",
   "execution_count": 267,
   "metadata": {},
   "outputs": [],
   "source": [
    "import math\n",
    "\n",
    "def distance(lat1, lon1, lat2, lon2):\n",
    "    p = 0.017453292519943295 # Pi/180\n",
    "    a = 0.5 - np.cos((lat2 - lat1) * p)/2 + np.cos(lat1 * p) * np.cos(lat2 * p) * (1 - np.cos((lon2 - lon1) * p)) / 2\n",
    "    return 0.6213712 * 12742 * np.arcsin(np.sqrt(a)) \n",
    "\n",
    "def createDistanace(dataFrame):\n",
    "    new_df = copy.deepcopy(dataFrame)\n",
    "    new_df[\"distance\"] = distance(dataFrame['pick_lat'], dataFrame['pick_lon'], dataFrame['drop_lat'], dataFrame['drop_lon'])\n",
    "    new_df = new_df.drop(['pick_lat', 'pick_lon', 'drop_lat', 'drop_lon'], axis=1)\n",
    "    return new_df\n",
    "    \n",
    "df = createDistanace(features_df)\n",
    "df.head()\n",
    "\n",
    "distanceTransformer = FunctionTransformer(createDistanace)"
   ]
  },
  {
   "cell_type": "code",
   "execution_count": 268,
   "metadata": {},
   "outputs": [
    {
     "data": {
      "text/html": [
       "<div>\n",
       "<style scoped>\n",
       "    .dataframe tbody tr th:only-of-type {\n",
       "        vertical-align: middle;\n",
       "    }\n",
       "\n",
       "    .dataframe tbody tr th {\n",
       "        vertical-align: top;\n",
       "    }\n",
       "\n",
       "    .dataframe thead th {\n",
       "        text-align: right;\n",
       "    }\n",
       "</style>\n",
       "<table border=\"1\" class=\"dataframe\">\n",
       "  <thead>\n",
       "    <tr style=\"text-align: right;\">\n",
       "      <th></th>\n",
       "      <th>additional_fare</th>\n",
       "      <th>duration</th>\n",
       "      <th>meter_waiting</th>\n",
       "      <th>meter_waiting_fare</th>\n",
       "      <th>meter_waiting_till_pickup</th>\n",
       "      <th>fare</th>\n",
       "      <th>distance</th>\n",
       "      <th>effective_time</th>\n",
       "      <th>label</th>\n",
       "    </tr>\n",
       "    <tr>\n",
       "      <th>tripid</th>\n",
       "      <th></th>\n",
       "      <th></th>\n",
       "      <th></th>\n",
       "      <th></th>\n",
       "      <th></th>\n",
       "      <th></th>\n",
       "      <th></th>\n",
       "      <th></th>\n",
       "      <th></th>\n",
       "    </tr>\n",
       "  </thead>\n",
       "  <tbody>\n",
       "    <tr>\n",
       "      <th>189123628</th>\n",
       "      <td>10.5</td>\n",
       "      <td>834.0</td>\n",
       "      <td>56.0</td>\n",
       "      <td>0.0000</td>\n",
       "      <td>64.0</td>\n",
       "      <td>270.32</td>\n",
       "      <td>3.164501</td>\n",
       "      <td>778.0</td>\n",
       "      <td>1</td>\n",
       "    </tr>\n",
       "    <tr>\n",
       "      <th>189125358</th>\n",
       "      <td>10.5</td>\n",
       "      <td>791.0</td>\n",
       "      <td>47.0</td>\n",
       "      <td>0.0000</td>\n",
       "      <td>134.0</td>\n",
       "      <td>197.85</td>\n",
       "      <td>1.968540</td>\n",
       "      <td>744.0</td>\n",
       "      <td>1</td>\n",
       "    </tr>\n",
       "    <tr>\n",
       "      <th>189125719</th>\n",
       "      <td>10.5</td>\n",
       "      <td>1087.0</td>\n",
       "      <td>80.0</td>\n",
       "      <td>0.0000</td>\n",
       "      <td>61.0</td>\n",
       "      <td>301.64</td>\n",
       "      <td>3.917991</td>\n",
       "      <td>1007.0</td>\n",
       "      <td>1</td>\n",
       "    </tr>\n",
       "    <tr>\n",
       "      <th>189127273</th>\n",
       "      <td>10.5</td>\n",
       "      <td>598.0</td>\n",
       "      <td>271.0</td>\n",
       "      <td>15.6638</td>\n",
       "      <td>68.0</td>\n",
       "      <td>82.30</td>\n",
       "      <td>0.535588</td>\n",
       "      <td>327.0</td>\n",
       "      <td>1</td>\n",
       "    </tr>\n",
       "    <tr>\n",
       "      <th>189128020</th>\n",
       "      <td>NaN</td>\n",
       "      <td>NaN</td>\n",
       "      <td>NaN</td>\n",
       "      <td>NaN</td>\n",
       "      <td>NaN</td>\n",
       "      <td>358.39</td>\n",
       "      <td>5.062797</td>\n",
       "      <td>NaN</td>\n",
       "      <td>1</td>\n",
       "    </tr>\n",
       "  </tbody>\n",
       "</table>\n",
       "</div>"
      ],
      "text/plain": [
       "           additional_fare  duration  meter_waiting  meter_waiting_fare  \\\n",
       "tripid                                                                    \n",
       "189123628             10.5     834.0           56.0              0.0000   \n",
       "189125358             10.5     791.0           47.0              0.0000   \n",
       "189125719             10.5    1087.0           80.0              0.0000   \n",
       "189127273             10.5     598.0          271.0             15.6638   \n",
       "189128020              NaN       NaN            NaN                 NaN   \n",
       "\n",
       "           meter_waiting_till_pickup    fare  distance  effective_time  label  \n",
       "tripid                                                                         \n",
       "189123628                       64.0  270.32  3.164501           778.0      1  \n",
       "189125358                      134.0  197.85  1.968540           744.0      1  \n",
       "189125719                       61.0  301.64  3.917991          1007.0      1  \n",
       "189127273                       68.0   82.30  0.535588           327.0      1  \n",
       "189128020                        NaN  358.39  5.062797             NaN      1  "
      ]
     },
     "execution_count": 268,
     "metadata": {},
     "output_type": "execute_result"
    }
   ],
   "source": [
    "features_eng_df = convertTime(createDistanace(features_df))\n",
    "joined_df = features_eng_df.join(labels_df)\n",
    "\n",
    "joined_df.head()"
   ]
  },
  {
   "cell_type": "code",
   "execution_count": 269,
   "metadata": {},
   "outputs": [
    {
     "data": {
      "image/png": "[encoded data removed]",
      "text/plain": [
       "<Figure size 432x288 with 2 Axes>"
      ]
     },
     "metadata": {
      "needs_background": "light"
     },
     "output_type": "display_data"
    }
   ],
   "source": [
    "correlations = joined_df.corr()\n",
    "\n",
    "ax = sns.heatmap(\n",
    "    correlations, \n",
    "    #vmin=-1, vmax=1, center=0,\n",
    "    #cmap=sns.diverging_palette(20, 220, n=200),\n",
    "    #square=True\n",
    ")\n",
    "\n",
    "ax.set_xticklabels(\n",
    "    ax.get_xticklabels(),\n",
    "    rotation=90,\n",
    "    horizontalalignment='right'\n",
    ");\n",
    "\n",
    "#features_df.drop(['meter_waiting', 'meter_waiting_fare'], axis=1)"
   ]
  },
  {
   "cell_type": "code",
   "execution_count": 270,
   "metadata": {},
   "outputs": [],
   "source": [
    "est_mlp = MLPClassifier(hidden_layer_sizes=(200,100,), learning_rate='invscaling', learning_rate_init=0.01,\n",
    "                          power_t=0.5, max_iter=500, shuffle=True, tol=0.0001, \n",
    "                          early_stopping=True, validation_fraction=0.1, n_iter_no_change=10, max_fun=15000,\n",
    "                         random_state=RANDOM_SEED)\n",
    "est_xgb = XGBClassifier(max_depth=5, min_child_weight=1, gamma=0, reg_lambda=30, reg_alpha=0)\n",
    "est_gb = GradientBoostingClassifier(random_state=8, n_estimators=250)\n",
    "est_rn = RandomForestClassifier(max_depth=10, bootstrap=True, n_estimators=200)\n",
    "est_svc = SVC()\n",
    "est_nb = GaussianNB()\n",
    "est_kn = KNeighborsClassifier()\n",
    "\n",
    "estimators_stacked = [('xbg', est_xgb),\n",
    "              ('mlp', est_mlp),\n",
    "              #('gb', est_gb),\n",
    "              #('rn', est_rn)\n",
    "             ]\n",
    "\n",
    "stacked_estimator =  StackingClassifier(estimators=estimators_stacked,\n",
    "                                    final_estimator=LogisticRegression(),\n",
    "                                    stack_method='predict_proba'\n",
    "                                  )"
   ]
  },
  {
   "cell_type": "code",
   "execution_count": 271,
   "metadata": {
    "colab": {},
    "colab_type": "code",
    "id": "1E7stb9CWjjI"
   },
   "outputs": [],
   "source": [
    "seperate_processing_cols = []\n",
    "\n",
    "numeric_cols = features_df.columns.values\n",
    "numeric_cols = [x for x in numeric_cols if (x not in seperate_processing_cols)]\n",
    "#numeric_cols = features_df.columns[features_df.dtypes != \"object\"].values\n",
    "# chain preprocessing into a Pipeline object\n",
    "# each step is a tuple of (name you chose, sklearn transformer)\n",
    "\n",
    "preprocessor = Pipeline([\n",
    "    ('date_converter', timeTransformer),\n",
    "    ('distance', distanceTransformer),\n",
    "    ('simple_imputer', SimpleImputer(strategy='mean')),\n",
    "    #('feature_selector', SelectKBest(score_func=chi2, k=5)),\n",
    "    ('standard_scaler', StandardScaler()),\n",
    "    #('sample', SMOTE(random_state=RANDOM_SEED, sampling_strategy=0.8)),\n",
    "    ('undersample', RandomUnderSampler(sampling_strategy=0.2, random_state=17)), # random_state=17 provides best sampling\n",
    "    #('basis expansion', PolynomialFeatures(2)),\n",
    "    (\"estimator\", stacked_estimator)\n",
    "])"
   ]
  },
  {
   "cell_type": "code",
   "execution_count": 272,
   "metadata": {
    "colab": {},
    "colab_type": "code",
    "id": "fBk87O5soLR0"
   },
   "outputs": [
    {
     "name": "stdout",
     "output_type": "stream",
     "text": [
      "Training done\n"
     ]
    }
   ],
   "source": [
    "full_pipeline = Pipeline([\n",
    "    (\"preprocessor\", preprocessor),\n",
    "])\n",
    "\n",
    "\n",
    "#splitting the dataset\n",
    "X_train, X_eval, y_train, y_eval = train_test_split(\n",
    "    features_df,\n",
    "    labels_df,\n",
    "    test_size=0.33,\n",
    "    shuffle=True,\n",
    "    stratify=labels_df,\n",
    "    random_state=RANDOM_SEED\n",
    ")\n",
    "\n",
    "\n",
    "full_pipeline.fit(X_train, y_train.values.ravel())\n",
    "print(\"Training done\")"
   ]
  },
  {
   "cell_type": "code",
   "execution_count": 273,
   "metadata": {},
   "outputs": [],
   "source": [
    "y_pred_train= full_pipeline.predict(X_train)\n",
    "y_pred= full_pipeline.predict(X_eval)"
   ]
  },
  {
   "cell_type": "code",
   "execution_count": 274,
   "metadata": {
    "colab": {
     "base_uri": "https://localhost:8080/",
     "height": 34
    },
    "colab_type": "code",
    "id": "6Q7ejKueolVV",
    "outputId": "953a964e-77f6-49e6-ae79-dfbb5d64635a"
   },
   "outputs": [
    {
     "data": {
      "text/plain": [
       "array([0.81450488, 0.98087523])"
      ]
     },
     "execution_count": 274,
     "metadata": {},
     "output_type": "execute_result"
    }
   ],
   "source": [
    "f1_score(y_train, y_pred_train, average=None)"
   ]
  },
  {
   "cell_type": "code",
   "execution_count": 275,
   "metadata": {
    "colab": {
     "base_uri": "https://localhost:8080/",
     "height": 34
    },
    "colab_type": "code",
    "id": "nXCgLmR1rDEi",
    "outputId": "d318408a-b9b3-41a5-dfde-6f930b60e13c"
   },
   "outputs": [
    {
     "data": {
      "text/plain": [
       "array([0.77010407, 0.97636417])"
      ]
     },
     "execution_count": 275,
     "metadata": {},
     "output_type": "execute_result"
    }
   ],
   "source": [
    "f1_score(y_eval, y_pred, average=None)"
   ]
  },
  {
   "cell_type": "code",
   "execution_count": 203,
   "metadata": {},
   "outputs": [
    {
     "name": "stdout",
     "output_type": "stream",
     "text": [
      "Random state:  0\n",
      "Train:  [0.74568362 0.97388721]\n",
      "Eval:  [0.74074074 0.97345649]\n",
      "Random state:  1\n",
      "Train:  [0.76164384 0.97493277]\n",
      "Eval:  [0.75816993 0.97477355]\n",
      "Random state:  2\n",
      "Train:  [0.76943942 0.97548313]\n",
      "Eval:  [0.75386013 0.9735274 ]\n",
      "Random state:  3\n",
      "Train:  [0.7740113 0.9770225]\n",
      "Eval:  [0.75980861 0.9756145 ]\n",
      "Random state:  4\n",
      "Train:  [0.74704077 0.97216997]\n",
      "Eval:  [0.76088889 0.97366102]\n",
      "Random state:  5\n",
      "Train:  [0.77562327 0.97668841]\n",
      "Eval:  [0.75680751 0.97478828]\n",
      "Random state:  6\n",
      "Train:  [0.74829932 0.97332885]\n",
      "Eval:  [0.7438914  0.97234438]\n",
      "Random state:  7\n",
      "Train:  [0.78699038 0.9776775 ]\n",
      "Eval:  [0.75489282 0.97437896]\n",
      "Random state:  8\n",
      "Train:  [0.78319177 0.97665688]\n",
      "Eval:  [0.75583483 0.97339593]\n",
      "Random state:  9\n",
      "Train:  [0.75531011 0.97212004]\n",
      "Eval:  [0.74398625 0.97070965]\n",
      "Random state:  10\n",
      "Train:  [0.77001388 0.9761665 ]\n",
      "Eval:  [0.76119403 0.97506332]\n",
      "Random state:  11\n",
      "Train:  [0.77457705 0.9763288 ]\n",
      "Eval:  [0.75492958 0.97459359]\n",
      "Random state:  12\n",
      "Train:  [0.76852699 0.97570578]\n",
      "Eval:  [0.7462963  0.97328914]\n",
      "Random state:  13\n",
      "Train:  [0.77165354 0.97636058]\n",
      "Eval:  [0.7490566  0.97411948]\n",
      "Random state:  14\n",
      "Train:  [0.76027997 0.97356233]\n",
      "Eval:  [0.75087108 0.97193327]\n",
      "Random state:  15\n",
      "Train:  [0.7788899  0.97665257]\n",
      "Eval:  [0.74579439 0.97350993]\n",
      "Random state:  16\n",
      "Train:  [0.77146879 0.9766796 ]\n",
      "Eval:  [0.75504323 0.97523551]\n",
      "Random state:  17\n",
      "Train:  [0.77762367 0.97693156]\n",
      "Eval:  [0.76660342 0.97607935]\n",
      "Random state:  18\n",
      "Train:  [0.7702089 0.9756871]\n",
      "Eval:  [0.75665748 0.97414382]\n",
      "Random state:  19\n",
      "Train:  [0.67754698 0.96894055]\n",
      "Eval:  [0.67460317 0.96824782]\n"
     ]
    }
   ],
   "source": [
    "for i in range(20):\n",
    "    preprocessor = Pipeline([\n",
    "    ('date_converter', timeTransformer),\n",
    "    ('distance', distanceTransformer),\n",
    "    ('simple_imputer', SimpleImputer(strategy='mean')),\n",
    "    #('feature_selector', SelectKBest(score_func=chi2, k=5)),\n",
    "    ('standard_scaler', StandardScaler()),\n",
    "    #('sample', SMOTE(random_state=RANDOM_SEED, sampling_strategy=0.8)),\n",
    "    ('undersample', RandomUnderSampler(sampling_strategy=0.2, random_state=i)),\n",
    "    #('basis expansion', PolynomialFeatures(2)),\n",
    "    (\"estimator\", est_mlp)\n",
    "    ])\n",
    "    full_pipeline = Pipeline([\n",
    "    (\"preprocessor\", preprocessor),\n",
    "    ])\n",
    "    full_pipeline.fit(X_train, y_train.values.ravel())\n",
    "    \n",
    "    y_pred_train= full_pipeline.predict(X_train)\n",
    "    y_pred= full_pipeline.predict(X_eval)\n",
    "    \n",
    "    print(\"Random state: \", i)\n",
    "    print(\"Train: \", f1_score(y_train, y_pred_train, average=None))\n",
    "    print(\"Eval: \", f1_score(y_eval, y_pred, average=None))"
   ]
  },
  {
   "cell_type": "code",
   "execution_count": null,
   "metadata": {},
   "outputs": [],
   "source": [
    "param_rn = {'preprocessor__estimator__bootstrap': [True, False],\n",
    " 'preprocessor__estimator__max_depth': [ 6, 7, 8, 9, 10, 11, 12, None],\n",
    " #'preprocessor__estimator__max_features': ['auto', 'sqrt'],\n",
    " #'preprocessor__estimator__min_samples_leaf': [1, 2, 4],\n",
    " #'preprocessor__estimator__min_samples_split': [2, 5, 10],\n",
    " 'preprocessor__estimator__n_estimators': [200, 400, 600, 800]\n",
    "}\n",
    "\n",
    "param_test1 = {\n",
    "\n",
    " 'preprocessor__estimator__min_child_weight':range(1,6,2)\n",
    "}\n",
    "\n",
    "param_test2 = {\n",
    " 'preprocessor__estimator__gamma':[i/10.0 for i in range(0,5)]\n",
    "}\n",
    "\n",
    "param_test3 = {\n",
    " 'preprocessor__estimator__max_depth':range(3,7,1),\n",
    " 'preprocessor__estimator__reg_alpha': range(0,50,8),\n",
    " 'preprocessor__estimator__reg_lambda': range(0,50,8)\n",
    "}\n",
    "\n",
    "param_opt = GridSearchCV(estimator=full_pipeline, param_grid=param_rn, scoring='f1', verbose=10)\n",
    "param_opt.fit(X_train, y_train.values.ravel())"
   ]
  },
  {
   "cell_type": "code",
   "execution_count": 17,
   "metadata": {},
   "outputs": [
    {
     "data": {
      "text/plain": [
       "{'preprocessor__estimator__bootstrap': True,\n",
       " 'preprocessor__estimator__max_depth': None,\n",
       " 'preprocessor__estimator__n_estimators': 200}"
      ]
     },
     "execution_count": 17,
     "metadata": {},
     "output_type": "execute_result"
    }
   ],
   "source": [
    "param_opt.best_params_"
   ]
  },
  {
   "cell_type": "code",
   "execution_count": 277,
   "metadata": {
    "colab": {
     "base_uri": "https://localhost:8080/",
     "height": 51
    },
    "colab_type": "code",
    "id": "XzW18o9lhS_x",
    "outputId": "c46db921-6322-46bf-cf28-f8dbecd72dbb"
   },
   "outputs": [
    {
     "name": "stdout",
     "output_type": "stream",
     "text": [
      "Wall time: 2min 32s\n"
     ]
    }
   ],
   "source": [
    "%%time \n",
    "\n",
    "full_pipeline.fit(features_df, labels_df.values.ravel())\n",
    "\n",
    "None   # So we don't print out the whole pipeline representation"
   ]
  },
  {
   "cell_type": "code",
   "execution_count": 279,
   "metadata": {
    "colab": {
     "base_uri": "https://localhost:8080/",
     "height": 34
    },
    "colab_type": "code",
    "id": "NSrik_r9hsxD",
    "outputId": "cb1e51db-434c-483d-d663-fe4f462645a2"
   },
   "outputs": [
    {
     "data": {
      "text/plain": [
       "array([1, 1, 1, ..., 1, 1, 1], dtype=int64)"
      ]
     },
     "execution_count": 279,
     "metadata": {},
     "output_type": "execute_result"
    }
   ],
   "source": [
    "test_score = full_pipeline.predict(test_features_df)\n",
    "test_score"
   ]
  },
  {
   "cell_type": "code",
   "execution_count": 280,
   "metadata": {
    "colab": {
     "base_uri": "https://localhost:8080/",
     "height": 34
    },
    "colab_type": "code",
    "id": "clanxMe6joMg",
    "outputId": "ba7293e5-904f-400b-f0b0-19c57cc3ad4d"
   },
   "outputs": [
    {
     "data": {
      "text/plain": [
       "(8576,)"
      ]
     },
     "execution_count": 280,
     "metadata": {},
     "output_type": "execute_result"
    }
   ],
   "source": [
    "test_score.shape"
   ]
  },
  {
   "cell_type": "code",
   "execution_count": 281,
   "metadata": {
    "colab": {
     "base_uri": "https://localhost:8080/",
     "height": 252
    },
    "colab_type": "code",
    "id": "7EVIbnMbkzrw",
    "outputId": "5356903e-9e79-481a-d28b-7054e96bc329"
   },
   "outputs": [
    {
     "name": "stdout",
     "output_type": "stream",
     "text": [
      "y_preds.shape: (8576, 1)\n"
     ]
    },
    {
     "data": {
      "text/html": [
       "<div>\n",
       "<style scoped>\n",
       "    .dataframe tbody tr th:only-of-type {\n",
       "        vertical-align: middle;\n",
       "    }\n",
       "\n",
       "    .dataframe tbody tr th {\n",
       "        vertical-align: top;\n",
       "    }\n",
       "\n",
       "    .dataframe thead th {\n",
       "        text-align: right;\n",
       "    }\n",
       "</style>\n",
       "<table border=\"1\" class=\"dataframe\">\n",
       "  <thead>\n",
       "    <tr style=\"text-align: right;\">\n",
       "      <th></th>\n",
       "      <th>label</th>\n",
       "    </tr>\n",
       "    <tr>\n",
       "      <th>tripid</th>\n",
       "      <th></th>\n",
       "    </tr>\n",
       "  </thead>\n",
       "  <tbody>\n",
       "    <tr>\n",
       "      <th>213284604</th>\n",
       "      <td>1</td>\n",
       "    </tr>\n",
       "    <tr>\n",
       "      <th>213286352</th>\n",
       "      <td>1</td>\n",
       "    </tr>\n",
       "    <tr>\n",
       "      <th>213293973</th>\n",
       "      <td>1</td>\n",
       "    </tr>\n",
       "    <tr>\n",
       "      <th>213294622</th>\n",
       "      <td>1</td>\n",
       "    </tr>\n",
       "    <tr>\n",
       "      <th>213298687</th>\n",
       "      <td>1</td>\n",
       "    </tr>\n",
       "  </tbody>\n",
       "</table>\n",
       "</div>"
      ],
      "text/plain": [
       "           label\n",
       "tripid          \n",
       "213284604      1\n",
       "213286352      1\n",
       "213293973      1\n",
       "213294622      1\n",
       "213298687      1"
      ]
     },
     "execution_count": 281,
     "metadata": {},
     "output_type": "execute_result"
    }
   ],
   "source": [
    "y_preds = pd.DataFrame(\n",
    "    {\n",
    "        # \"label\": test_score1[:,0],\n",
    "        \"label\": test_score,\n",
    "    },\n",
    "    index = test_features_df.index\n",
    ")\n",
    "print(\"y_preds.shape:\", y_preds.shape)\n",
    "y_preds.head()"
   ]
  },
  {
   "cell_type": "code",
   "execution_count": 282,
   "metadata": {
    "colab": {},
    "colab_type": "code",
    "id": "1cZIp7k0h2FW"
   },
   "outputs": [],
   "source": [
    "submission_df = pd.read_csv(\"sample_submission.csv\", \n",
    "                            index_col=\"tripid\")"
   ]
  },
  {
   "cell_type": "code",
   "execution_count": 283,
   "metadata": {
    "colab": {
     "base_uri": "https://localhost:8080/",
     "height": 235
    },
    "colab_type": "code",
    "id": "ouv_PqSwh_U1",
    "outputId": "01ac1f96-6e28-4b25-bd03-1c4a46e7de2d"
   },
   "outputs": [
    {
     "data": {
      "text/html": [
       "<div>\n",
       "<style scoped>\n",
       "    .dataframe tbody tr th:only-of-type {\n",
       "        vertical-align: middle;\n",
       "    }\n",
       "\n",
       "    .dataframe tbody tr th {\n",
       "        vertical-align: top;\n",
       "    }\n",
       "\n",
       "    .dataframe thead th {\n",
       "        text-align: right;\n",
       "    }\n",
       "</style>\n",
       "<table border=\"1\" class=\"dataframe\">\n",
       "  <thead>\n",
       "    <tr style=\"text-align: right;\">\n",
       "      <th></th>\n",
       "      <th>prediction</th>\n",
       "    </tr>\n",
       "    <tr>\n",
       "      <th>tripid</th>\n",
       "      <th></th>\n",
       "    </tr>\n",
       "  </thead>\n",
       "  <tbody>\n",
       "    <tr>\n",
       "      <th>213284604</th>\n",
       "      <td>1</td>\n",
       "    </tr>\n",
       "    <tr>\n",
       "      <th>213286352</th>\n",
       "      <td>0</td>\n",
       "    </tr>\n",
       "    <tr>\n",
       "      <th>213293973</th>\n",
       "      <td>0</td>\n",
       "    </tr>\n",
       "    <tr>\n",
       "      <th>213294622</th>\n",
       "      <td>1</td>\n",
       "    </tr>\n",
       "    <tr>\n",
       "      <th>213298687</th>\n",
       "      <td>1</td>\n",
       "    </tr>\n",
       "  </tbody>\n",
       "</table>\n",
       "</div>"
      ],
      "text/plain": [
       "           prediction\n",
       "tripid               \n",
       "213284604           1\n",
       "213286352           0\n",
       "213293973           0\n",
       "213294622           1\n",
       "213298687           1"
      ]
     },
     "execution_count": 283,
     "metadata": {},
     "output_type": "execute_result"
    }
   ],
   "source": [
    "submission_df.head()"
   ]
  },
  {
   "cell_type": "code",
   "execution_count": 284,
   "metadata": {
    "colab": {},
    "colab_type": "code",
    "id": "UvPw8rxoiCQl"
   },
   "outputs": [],
   "source": [
    "# Make sure we have the rows in the same order\n",
    "np.testing.assert_array_equal(test_features_df.index.values, \n",
    "                              submission_df.index.values)"
   ]
  },
  {
   "cell_type": "code",
   "execution_count": 285,
   "metadata": {
    "colab": {
     "base_uri": "https://localhost:8080/",
     "height": 235
    },
    "colab_type": "code",
    "id": "TEwjq-7kpJeL",
    "outputId": "81bc4b2c-c1b7-4f7d-8ed3-4b9ba3301c2d"
   },
   "outputs": [
    {
     "data": {
      "text/html": [
       "<div>\n",
       "<style scoped>\n",
       "    .dataframe tbody tr th:only-of-type {\n",
       "        vertical-align: middle;\n",
       "    }\n",
       "\n",
       "    .dataframe tbody tr th {\n",
       "        vertical-align: top;\n",
       "    }\n",
       "\n",
       "    .dataframe thead th {\n",
       "        text-align: right;\n",
       "    }\n",
       "</style>\n",
       "<table border=\"1\" class=\"dataframe\">\n",
       "  <thead>\n",
       "    <tr style=\"text-align: right;\">\n",
       "      <th></th>\n",
       "      <th>prediction</th>\n",
       "    </tr>\n",
       "    <tr>\n",
       "      <th>tripid</th>\n",
       "      <th></th>\n",
       "    </tr>\n",
       "  </thead>\n",
       "  <tbody>\n",
       "    <tr>\n",
       "      <th>213284604</th>\n",
       "      <td>1</td>\n",
       "    </tr>\n",
       "    <tr>\n",
       "      <th>213286352</th>\n",
       "      <td>1</td>\n",
       "    </tr>\n",
       "    <tr>\n",
       "      <th>213293973</th>\n",
       "      <td>1</td>\n",
       "    </tr>\n",
       "    <tr>\n",
       "      <th>213294622</th>\n",
       "      <td>1</td>\n",
       "    </tr>\n",
       "    <tr>\n",
       "      <th>213298687</th>\n",
       "      <td>1</td>\n",
       "    </tr>\n",
       "  </tbody>\n",
       "</table>\n",
       "</div>"
      ],
      "text/plain": [
       "           prediction\n",
       "tripid               \n",
       "213284604           1\n",
       "213286352           1\n",
       "213293973           1\n",
       "213294622           1\n",
       "213298687           1"
      ]
     },
     "execution_count": 285,
     "metadata": {},
     "output_type": "execute_result"
    }
   ],
   "source": [
    "# Save predictions to submission data frame\n",
    "submission_df[\"prediction\"] = test_score\n",
    "\n",
    "submission_df.head()"
   ]
  },
  {
   "cell_type": "code",
   "execution_count": 286,
   "metadata": {
    "colab": {},
    "colab_type": "code",
    "id": "BLdRLhxmiRxv"
   },
   "outputs": [],
   "source": [
    "submission_df.to_csv('my_submission13.csv', index=True)"
   ]
  },
  {
   "cell_type": "code",
   "execution_count": null,
   "metadata": {},
   "outputs": [],
   "source": []
  }
 ],
 "metadata": {
  "accelerator": "GPU",
  "colab": {
   "name": "MLPClassifier.ipynb",
   "provenance": []
  },
  "kernelspec": {
   "display_name": "Python 3",
   "language": "python",
   "name": "python3"
  },
  "language_info": {
   "codemirror_mode": {
    "name": "ipython",
    "version": 3
   },
   "file_extension": ".py",
   "mimetype": "text/x-python",
   "name": "python",
   "nbconvert_exporter": "python",
   "pygments_lexer": "ipython3",
   "version": "3.7.3"
  }
 },
 "nbformat": 4,
 "nbformat_minor": 1
}
