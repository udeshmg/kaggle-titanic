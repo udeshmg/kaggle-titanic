{
 "cells": [
  {
   "cell_type": "code",
   "execution_count": 126,
   "metadata": {
    "colab": {},
    "colab_type": "code",
    "id": "LpaarpAnWHkY"
   },
   "outputs": [],
   "source": [
    "import copy\n",
    "import seaborn as sns\n",
    "from pathlib import Path\n",
    "\n",
    "import numpy as np\n",
    "import pandas as pd\n",
    "\n",
    "from sklearn.preprocessing import StandardScaler\n",
    "from sklearn.impute import SimpleImputer\n",
    "from sklearn.compose import ColumnTransformer\n",
    "from sklearn.linear_model import LogisticRegression, SGDClassifier\n",
    "from sklearn.gaussian_process import GaussianProcessClassifier\n",
    "from sklearn.ensemble import GradientBoostingClassifier, RandomForestClassifier, BaggingClassifier\n",
    "from sklearn.ensemble import StackingClassifier\n",
    "#from sklearn.pipeline import Pipeline\n",
    "from imblearn.pipeline import Pipeline\n",
    "\n",
    "from imblearn.over_sampling import SMOTE, ADASYN\n",
    "from imblearn.under_sampling import RandomUnderSampler\n",
    "\n",
    "from sklearn.model_selection import train_test_split\n",
    "\n",
    "from sklearn.preprocessing import OneHotEncoder, LabelEncoder, OrdinalEncoder\n",
    "import xgboost as xgb\n",
    "from xgboost.sklearn import XGBClassifier\n",
    "from sklearn.linear_model import SGDClassifier\n",
    "from sklearn.neural_network import MLPClassifier\n",
    "\n",
    "from sklearn.metrics import f1_score, accuracy_score\n",
    "from sklearn.utils import resample\n",
    "\n",
    "from sklearn.preprocessing import PolynomialFeatures, PowerTransformer\n",
    "from sklearn.preprocessing import FunctionTransformer\n",
    "from sklearn.feature_selection import SelectKBest\n",
    "from sklearn.feature_selection import chi2\n",
    "\n",
    "from sklearn.naive_bayes import GaussianNB\n",
    "from sklearn.neighbors import KNeighborsClassifier\n",
    "\n",
    "from sklearn.ensemble import RandomForestClassifier\n",
    "from sklearn.ensemble import GradientBoostingClassifier\n",
    "from sklearn.svm import SVC\n",
    "from sklearn.model_selection import GridSearchCV  \n",
    "\n",
    "RANDOM_SEED = 8    # Set a random seed for reproducibility!"
   ]
  },
  {
   "cell_type": "code",
   "execution_count": 88,
   "metadata": {
    "colab": {
     "base_uri": "https://localhost:8080/",
     "height": 252
    },
    "colab_type": "code",
    "id": "5XwotHKhSrOS",
    "outputId": "6815fae5-4bac-4424-d934-7cd154d06cc8"
   },
   "outputs": [
    {
     "data": {
      "text/html": [
       "<div>\n",
       "<style scoped>\n",
       "    .dataframe tbody tr th:only-of-type {\n",
       "        vertical-align: middle;\n",
       "    }\n",
       "\n",
       "    .dataframe tbody tr th {\n",
       "        vertical-align: top;\n",
       "    }\n",
       "\n",
       "    .dataframe thead th {\n",
       "        text-align: right;\n",
       "    }\n",
       "</style>\n",
       "<table border=\"1\" class=\"dataframe\">\n",
       "  <thead>\n",
       "    <tr style=\"text-align: right;\">\n",
       "      <th></th>\n",
       "      <th>Pclass</th>\n",
       "      <th>Name</th>\n",
       "      <th>Sex</th>\n",
       "      <th>Age</th>\n",
       "      <th>SibSp</th>\n",
       "      <th>Parch</th>\n",
       "      <th>Ticket</th>\n",
       "      <th>Fare</th>\n",
       "      <th>Cabin</th>\n",
       "      <th>Embarked</th>\n",
       "    </tr>\n",
       "    <tr>\n",
       "      <th>PassengerId</th>\n",
       "      <th></th>\n",
       "      <th></th>\n",
       "      <th></th>\n",
       "      <th></th>\n",
       "      <th></th>\n",
       "      <th></th>\n",
       "      <th></th>\n",
       "      <th></th>\n",
       "      <th></th>\n",
       "      <th></th>\n",
       "    </tr>\n",
       "  </thead>\n",
       "  <tbody>\n",
       "    <tr>\n",
       "      <th>1</th>\n",
       "      <td>3</td>\n",
       "      <td>Braund, Mr. Owen Harris</td>\n",
       "      <td>male</td>\n",
       "      <td>22.0</td>\n",
       "      <td>1</td>\n",
       "      <td>0</td>\n",
       "      <td>A/5 21171</td>\n",
       "      <td>7.2500</td>\n",
       "      <td>NaN</td>\n",
       "      <td>S</td>\n",
       "    </tr>\n",
       "    <tr>\n",
       "      <th>2</th>\n",
       "      <td>1</td>\n",
       "      <td>Cumings, Mrs. John Bradley (Florence Briggs Th...</td>\n",
       "      <td>female</td>\n",
       "      <td>38.0</td>\n",
       "      <td>1</td>\n",
       "      <td>0</td>\n",
       "      <td>PC 17599</td>\n",
       "      <td>71.2833</td>\n",
       "      <td>C85</td>\n",
       "      <td>C</td>\n",
       "    </tr>\n",
       "    <tr>\n",
       "      <th>3</th>\n",
       "      <td>3</td>\n",
       "      <td>Heikkinen, Miss. Laina</td>\n",
       "      <td>female</td>\n",
       "      <td>26.0</td>\n",
       "      <td>0</td>\n",
       "      <td>0</td>\n",
       "      <td>STON/O2. 3101282</td>\n",
       "      <td>7.9250</td>\n",
       "      <td>NaN</td>\n",
       "      <td>S</td>\n",
       "    </tr>\n",
       "    <tr>\n",
       "      <th>4</th>\n",
       "      <td>1</td>\n",
       "      <td>Futrelle, Mrs. Jacques Heath (Lily May Peel)</td>\n",
       "      <td>female</td>\n",
       "      <td>35.0</td>\n",
       "      <td>1</td>\n",
       "      <td>0</td>\n",
       "      <td>113803</td>\n",
       "      <td>53.1000</td>\n",
       "      <td>C123</td>\n",
       "      <td>S</td>\n",
       "    </tr>\n",
       "    <tr>\n",
       "      <th>5</th>\n",
       "      <td>3</td>\n",
       "      <td>Allen, Mr. William Henry</td>\n",
       "      <td>male</td>\n",
       "      <td>35.0</td>\n",
       "      <td>0</td>\n",
       "      <td>0</td>\n",
       "      <td>373450</td>\n",
       "      <td>8.0500</td>\n",
       "      <td>NaN</td>\n",
       "      <td>S</td>\n",
       "    </tr>\n",
       "  </tbody>\n",
       "</table>\n",
       "</div>"
      ],
      "text/plain": [
       "             Pclass                                               Name  \\\n",
       "PassengerId                                                              \n",
       "1                 3                            Braund, Mr. Owen Harris   \n",
       "2                 1  Cumings, Mrs. John Bradley (Florence Briggs Th...   \n",
       "3                 3                             Heikkinen, Miss. Laina   \n",
       "4                 1       Futrelle, Mrs. Jacques Heath (Lily May Peel)   \n",
       "5                 3                           Allen, Mr. William Henry   \n",
       "\n",
       "                Sex   Age  SibSp  Parch            Ticket     Fare Cabin  \\\n",
       "PassengerId                                                                \n",
       "1              male  22.0      1      0         A/5 21171   7.2500   NaN   \n",
       "2            female  38.0      1      0          PC 17599  71.2833   C85   \n",
       "3            female  26.0      0      0  STON/O2. 3101282   7.9250   NaN   \n",
       "4            female  35.0      1      0            113803  53.1000  C123   \n",
       "5              male  35.0      0      0            373450   8.0500   NaN   \n",
       "\n",
       "            Embarked  \n",
       "PassengerId           \n",
       "1                  S  \n",
       "2                  C  \n",
       "3                  S  \n",
       "4                  S  \n",
       "5                  S  "
      ]
     },
     "execution_count": 88,
     "metadata": {},
     "output_type": "execute_result"
    }
   ],
   "source": [
    "pd.set_option(\"display.max_columns\", 100)\n",
    "\n",
    "PATH = \"Data/\"\n",
    "\n",
    "train_df = pd.read_csv(\n",
    "    PATH + \"train.csv\", \n",
    "    index_col=\"PassengerId\"\n",
    ")\n",
    "test_features_df = pd.read_csv(\n",
    "    PATH + \"test.csv\", \n",
    "    index_col=\"PassengerId\"\n",
    ")\n",
    "\n",
    "labels_df = train_df[['Survived']]\n",
    "features_df = train_df.drop('Survived', axis=1)\n",
    "\n",
    "labels_df.head()\n",
    "features_df.head()"
   ]
  },
  {
   "cell_type": "code",
   "execution_count": 105,
   "metadata": {},
   "outputs": [
    {
     "data": {
      "text/plain": [
       "Index(['Pclass', 'Age', 'SibSp', 'Parch', 'Fare'], dtype='object')"
      ]
     },
     "execution_count": 105,
     "metadata": {},
     "output_type": "execute_result"
    }
   ],
   "source": [
    "numeric_cols = features_df.columns[features_df.dtypes != 'object']\n",
    "cat_cols = features_df.columns[features_df.dtypes == 'object']\n",
    "numeric_cols"
   ]
  },
  {
   "cell_type": "code",
   "execution_count": 91,
   "metadata": {},
   "outputs": [
    {
     "data": {
      "text/html": [
       "<div>\n",
       "<style scoped>\n",
       "    .dataframe tbody tr th:only-of-type {\n",
       "        vertical-align: middle;\n",
       "    }\n",
       "\n",
       "    .dataframe tbody tr th {\n",
       "        vertical-align: top;\n",
       "    }\n",
       "\n",
       "    .dataframe thead th {\n",
       "        text-align: right;\n",
       "    }\n",
       "</style>\n",
       "<table border=\"1\" class=\"dataframe\">\n",
       "  <thead>\n",
       "    <tr style=\"text-align: right;\">\n",
       "      <th></th>\n",
       "      <th>Pclass</th>\n",
       "      <th>Age</th>\n",
       "      <th>SibSp</th>\n",
       "      <th>Parch</th>\n",
       "      <th>Fare</th>\n",
       "      <th>Name</th>\n",
       "      <th>Sex</th>\n",
       "      <th>Ticket</th>\n",
       "      <th>Cabin</th>\n",
       "      <th>Embarked</th>\n",
       "      <th>Survived</th>\n",
       "    </tr>\n",
       "    <tr>\n",
       "      <th>PassengerId</th>\n",
       "      <th></th>\n",
       "      <th></th>\n",
       "      <th></th>\n",
       "      <th></th>\n",
       "      <th></th>\n",
       "      <th></th>\n",
       "      <th></th>\n",
       "      <th></th>\n",
       "      <th></th>\n",
       "      <th></th>\n",
       "      <th></th>\n",
       "    </tr>\n",
       "  </thead>\n",
       "  <tbody>\n",
       "    <tr>\n",
       "      <th>1</th>\n",
       "      <td>3</td>\n",
       "      <td>22.0</td>\n",
       "      <td>1</td>\n",
       "      <td>0</td>\n",
       "      <td>7.2500</td>\n",
       "      <td>190.0</td>\n",
       "      <td>0.0</td>\n",
       "      <td>596.0</td>\n",
       "      <td>81.0</td>\n",
       "      <td>0.0</td>\n",
       "      <td>0</td>\n",
       "    </tr>\n",
       "    <tr>\n",
       "      <th>2</th>\n",
       "      <td>1</td>\n",
       "      <td>38.0</td>\n",
       "      <td>1</td>\n",
       "      <td>0</td>\n",
       "      <td>71.2833</td>\n",
       "      <td>353.0</td>\n",
       "      <td>0.0</td>\n",
       "      <td>669.0</td>\n",
       "      <td>47.0</td>\n",
       "      <td>2.0</td>\n",
       "      <td>1</td>\n",
       "    </tr>\n",
       "    <tr>\n",
       "      <th>3</th>\n",
       "      <td>3</td>\n",
       "      <td>26.0</td>\n",
       "      <td>0</td>\n",
       "      <td>0</td>\n",
       "      <td>7.9250</td>\n",
       "      <td>272.0</td>\n",
       "      <td>0.0</td>\n",
       "      <td>49.0</td>\n",
       "      <td>55.0</td>\n",
       "      <td>2.0</td>\n",
       "      <td>1</td>\n",
       "    </tr>\n",
       "    <tr>\n",
       "      <th>4</th>\n",
       "      <td>1</td>\n",
       "      <td>35.0</td>\n",
       "      <td>1</td>\n",
       "      <td>0</td>\n",
       "      <td>53.1000</td>\n",
       "      <td>15.0</td>\n",
       "      <td>1.0</td>\n",
       "      <td>472.0</td>\n",
       "      <td>47.0</td>\n",
       "      <td>2.0</td>\n",
       "      <td>1</td>\n",
       "    </tr>\n",
       "    <tr>\n",
       "      <th>5</th>\n",
       "      <td>3</td>\n",
       "      <td>35.0</td>\n",
       "      <td>0</td>\n",
       "      <td>0</td>\n",
       "      <td>8.0500</td>\n",
       "      <td>554.0</td>\n",
       "      <td>1.0</td>\n",
       "      <td>275.0</td>\n",
       "      <td>47.0</td>\n",
       "      <td>1.0</td>\n",
       "      <td>0</td>\n",
       "    </tr>\n",
       "  </tbody>\n",
       "</table>\n",
       "</div>"
      ],
      "text/plain": [
       "             Pclass   Age  SibSp  Parch     Fare   Name  Sex  Ticket  Cabin  \\\n",
       "PassengerId                                                                   \n",
       "1                 3  22.0      1      0   7.2500  190.0  0.0   596.0   81.0   \n",
       "2                 1  38.0      1      0  71.2833  353.0  0.0   669.0   47.0   \n",
       "3                 3  26.0      0      0   7.9250  272.0  0.0    49.0   55.0   \n",
       "4                 1  35.0      1      0  53.1000   15.0  1.0   472.0   47.0   \n",
       "5                 3  35.0      0      0   8.0500  554.0  1.0   275.0   47.0   \n",
       "\n",
       "             Embarked  Survived  \n",
       "PassengerId                      \n",
       "1                 0.0         0  \n",
       "2                 2.0         1  \n",
       "3                 2.0         1  \n",
       "4                 2.0         1  \n",
       "5                 1.0         0  "
      ]
     },
     "execution_count": 91,
     "metadata": {},
     "output_type": "execute_result"
    }
   ],
   "source": [
    "# To compute correlation\n",
    "im = SimpleImputer(strategy='most_frequent')\n",
    "le = OrdinalEncoder()\n",
    "s1 = im.fit_transform(features_df[cat_cols])\n",
    "encoded = le.fit_transform(s1)\n",
    "\n",
    "encoded = pd.DataFrame(encoded, columns=cat_cols)\n",
    "\n",
    "# join all the dataframe to compute correlations\n",
    "joined_df = features_df[numeric_cols].join(encoded).join(labels_df)\n",
    "joined_df.head()"
   ]
  },
  {
   "cell_type": "code",
   "execution_count": 92,
   "metadata": {},
   "outputs": [
    {
     "data": {
      "image/png": "[encoded data removed]",
      "text/plain": [
       "<Figure size 432x288 with 2 Axes>"
      ]
     },
     "metadata": {
      "needs_background": "light"
     },
     "output_type": "display_data"
    }
   ],
   "source": [
    "\n",
    "correlations = joined_df.corr()\n",
    "\n",
    "ax = sns.heatmap(\n",
    "    correlations\n",
    ")\n",
    "\n",
    "ax.set_xticklabels(\n",
    "    ax.get_xticklabels(),\n",
    "    rotation=90,\n",
    "    horizontalalignment='right'\n",
    ");\n"
   ]
  },
  {
   "cell_type": "code",
   "execution_count": 67,
   "metadata": {},
   "outputs": [],
   "source": [
    "est_mlp = MLPClassifier(hidden_layer_sizes=(200,100,), learning_rate='invscaling', learning_rate_init=0.01,\n",
    "                          power_t=0.5, max_iter=500, shuffle=True, tol=0.0001, \n",
    "                          early_stopping=True, validation_fraction=0.1, n_iter_no_change=10, max_fun=15000,\n",
    "                         random_state=RANDOM_SEED)\n",
    "est_xgb = XGBClassifier(max_depth=5, min_child_weight=1, gamma=0, reg_lambda=30, reg_alpha=0)\n",
    "est_gb = GradientBoostingClassifier(random_state=8, n_estimators=250)\n",
    "est_rn = RandomForestClassifier(max_depth=10, bootstrap=True, n_estimators=200)\n",
    "est_svc = SVC()\n",
    "est_nb = GaussianNB()\n",
    "est_kn = KNeighborsClassifier()\n",
    "\n",
    "estimators_stacked = [('xbg', est_xgb),\n",
    "              ('mlp', est_mlp),\n",
    "              #('gb', est_gb),\n",
    "              #('rn', est_rn)\n",
    "             ]\n",
    "\n",
    "stacked_estimator =  StackingClassifier(estimators=estimators_stacked,\n",
    "                                    final_estimator=LogisticRegression(),\n",
    "                                    stack_method='predict_proba'\n",
    "                                  )"
   ]
  },
  {
   "cell_type": "code",
   "execution_count": 121,
   "metadata": {
    "colab": {},
    "colab_type": "code",
    "id": "1E7stb9CWjjI"
   },
   "outputs": [],
   "source": [
    "seperate_processing_cols = ['Name', 'Ticket']\n",
    "cat_cols = [x for x in cat_cols if (x not in seperate_processing_cols)]\n",
    "numeric_cols = [x for x in numeric_cols if (x not in seperate_processing_cols)]\n",
    "\n",
    "\n",
    "\n",
    "numeric_preprocessing = Pipeline([\n",
    "    ('Imputer', SimpleImputer()),\n",
    "    ('Scaler', StandardScaler())\n",
    "])\n",
    "\n",
    "cat_preprocessing = Pipeline([\n",
    "    ('Imputer', SimpleImputer(strategy='most_frequent')),\n",
    "    ('Scaler', OneHotEncoder(handle_unknown='ignore'))\n",
    "])\n",
    "\n",
    "preprocessor = ColumnTransformer(\n",
    "    transformers=[('Numeric_preprocessing', numeric_preprocessing, numeric_cols),\n",
    "                  ('Cat_preprocessing', cat_preprocessing, cat_cols)],\n",
    "    remainder='drop'\n",
    ")\n",
    "\n",
    "full_pipeline = Pipeline([\n",
    "    ('Preprocessor', preprocessor),\n",
    "    (\"estimator\", est_mlp)\n",
    "])"
   ]
  },
  {
   "cell_type": "code",
   "execution_count": 122,
   "metadata": {
    "colab": {},
    "colab_type": "code",
    "id": "fBk87O5soLR0"
   },
   "outputs": [
    {
     "name": "stdout",
     "output_type": "stream",
     "text": [
      "Training done\n"
     ]
    },
    {
     "name": "stderr",
     "output_type": "stream",
     "text": [
      "C:\\Users\\pgunarathna\\AppData\\Local\\Continuum\\anaconda3\\lib\\site-packages\\sklearn\\neural_network\\_multilayer_perceptron.py:934: DataConversionWarning: A column-vector y was passed when a 1d array was expected. Please change the shape of y to (n_samples, ), for example using ravel().\n",
      "  y = column_or_1d(y, warn=True)\n"
     ]
    }
   ],
   "source": [
    "\n",
    "#splitting the dataset\n",
    "X_train, X_eval, y_train, y_eval = train_test_split(\n",
    "    features_df,\n",
    "    labels_df,\n",
    "    test_size=0.33,\n",
    "    shuffle=True,\n",
    "    stratify=labels_df,\n",
    "    random_state=RANDOM_SEED\n",
    ")\n",
    "\n",
    "\n",
    "full_pipeline.fit(X_train, y_train)\n",
    "print(\"Training done\")"
   ]
  },
  {
   "cell_type": "code",
   "execution_count": 123,
   "metadata": {},
   "outputs": [],
   "source": [
    "y_pred_train= full_pipeline.predict(X_train)\n",
    "y_pred= full_pipeline.predict(X_eval)"
   ]
  },
  {
   "cell_type": "code",
   "execution_count": 128,
   "metadata": {
    "colab": {
     "base_uri": "https://localhost:8080/",
     "height": 34
    },
    "colab_type": "code",
    "id": "6Q7ejKueolVV",
    "outputId": "953a964e-77f6-49e6-ae79-dfbb5d64635a"
   },
   "outputs": [
    {
     "data": {
      "text/plain": [
       "0.8120805369127517"
      ]
     },
     "execution_count": 128,
     "metadata": {},
     "output_type": "execute_result"
    }
   ],
   "source": [
    "accuracy_score(y_train, y_pred_train)"
   ]
  },
  {
   "cell_type": "code",
   "execution_count": 127,
   "metadata": {
    "colab": {
     "base_uri": "https://localhost:8080/",
     "height": 34
    },
    "colab_type": "code",
    "id": "nXCgLmR1rDEi",
    "outputId": "d318408a-b9b3-41a5-dfde-6f930b60e13c"
   },
   "outputs": [
    {
     "data": {
      "text/plain": [
       "0.7830508474576271"
      ]
     },
     "execution_count": 127,
     "metadata": {},
     "output_type": "execute_result"
    }
   ],
   "source": [
    "accuracy_score(y_eval, y_pred)"
   ]
  },
  {
   "cell_type": "code",
   "execution_count": 203,
   "metadata": {},
   "outputs": [
    {
     "name": "stdout",
     "output_type": "stream",
     "text": [
      "Random state:  0\n",
      "Train:  [0.74568362 0.97388721]\n",
      "Eval:  [0.74074074 0.97345649]\n",
      "Random state:  1\n",
      "Train:  [0.76164384 0.97493277]\n",
      "Eval:  [0.75816993 0.97477355]\n",
      "Random state:  2\n",
      "Train:  [0.76943942 0.97548313]\n",
      "Eval:  [0.75386013 0.9735274 ]\n",
      "Random state:  3\n",
      "Train:  [0.7740113 0.9770225]\n",
      "Eval:  [0.75980861 0.9756145 ]\n",
      "Random state:  4\n",
      "Train:  [0.74704077 0.97216997]\n",
      "Eval:  [0.76088889 0.97366102]\n",
      "Random state:  5\n",
      "Train:  [0.77562327 0.97668841]\n",
      "Eval:  [0.75680751 0.97478828]\n",
      "Random state:  6\n",
      "Train:  [0.74829932 0.97332885]\n",
      "Eval:  [0.7438914  0.97234438]\n",
      "Random state:  7\n",
      "Train:  [0.78699038 0.9776775 ]\n",
      "Eval:  [0.75489282 0.97437896]\n",
      "Random state:  8\n",
      "Train:  [0.78319177 0.97665688]\n",
      "Eval:  [0.75583483 0.97339593]\n",
      "Random state:  9\n",
      "Train:  [0.75531011 0.97212004]\n",
      "Eval:  [0.74398625 0.97070965]\n",
      "Random state:  10\n",
      "Train:  [0.77001388 0.9761665 ]\n",
      "Eval:  [0.76119403 0.97506332]\n",
      "Random state:  11\n",
      "Train:  [0.77457705 0.9763288 ]\n",
      "Eval:  [0.75492958 0.97459359]\n",
      "Random state:  12\n",
      "Train:  [0.76852699 0.97570578]\n",
      "Eval:  [0.7462963  0.97328914]\n",
      "Random state:  13\n",
      "Train:  [0.77165354 0.97636058]\n",
      "Eval:  [0.7490566  0.97411948]\n",
      "Random state:  14\n",
      "Train:  [0.76027997 0.97356233]\n",
      "Eval:  [0.75087108 0.97193327]\n",
      "Random state:  15\n",
      "Train:  [0.7788899  0.97665257]\n",
      "Eval:  [0.74579439 0.97350993]\n",
      "Random state:  16\n",
      "Train:  [0.77146879 0.9766796 ]\n",
      "Eval:  [0.75504323 0.97523551]\n",
      "Random state:  17\n",
      "Train:  [0.77762367 0.97693156]\n",
      "Eval:  [0.76660342 0.97607935]\n",
      "Random state:  18\n",
      "Train:  [0.7702089 0.9756871]\n",
      "Eval:  [0.75665748 0.97414382]\n",
      "Random state:  19\n",
      "Train:  [0.67754698 0.96894055]\n",
      "Eval:  [0.67460317 0.96824782]\n"
     ]
    }
   ],
   "source": [
    "for i in range(20):\n",
    "    preprocessor = Pipeline([\n",
    "    ('date_converter', timeTransformer),\n",
    "    ('distance', distanceTransformer),\n",
    "    ('simple_imputer', SimpleImputer(strategy='mean')),\n",
    "    #('feature_selector', SelectKBest(score_func=chi2, k=5)),\n",
    "    ('standard_scaler', StandardScaler()),\n",
    "    #('sample', SMOTE(random_state=RANDOM_SEED, sampling_strategy=0.8)),\n",
    "    ('undersample', RandomUnderSampler(sampling_strategy=0.2, random_state=i)),\n",
    "    #('basis expansion', PolynomialFeatures(2)),\n",
    "    (\"estimator\", est_mlp)\n",
    "    ])\n",
    "    full_pipeline = Pipeline([\n",
    "    (\"preprocessor\", preprocessor),\n",
    "    ])\n",
    "    full_pipeline.fit(X_train, y_train.values.ravel())\n",
    "    \n",
    "    y_pred_train= full_pipeline.predict(X_train)\n",
    "    y_pred= full_pipeline.predict(X_eval)\n",
    "    \n",
    "    print(\"Random state: \", i)\n",
    "    print(\"Train: \", f1_score(y_train, y_pred_train, average=None))\n",
    "    print(\"Eval: \", f1_score(y_eval, y_pred, average=None))"
   ]
  },
  {
   "cell_type": "code",
   "execution_count": null,
   "metadata": {},
   "outputs": [],
   "source": [
    "param_rn = {'preprocessor__estimator__bootstrap': [True, False],\n",
    " 'preprocessor__estimator__max_depth': [ 6, 7, 8, 9, 10, 11, 12, None],\n",
    " #'preprocessor__estimator__max_features': ['auto', 'sqrt'],\n",
    " #'preprocessor__estimator__min_samples_leaf': [1, 2, 4],\n",
    " #'preprocessor__estimator__min_samples_split': [2, 5, 10],\n",
    " 'preprocessor__estimator__n_estimators': [200, 400, 600, 800]\n",
    "}\n",
    "\n",
    "param_test1 = {\n",
    "\n",
    " 'preprocessor__estimator__min_child_weight':range(1,6,2)\n",
    "}\n",
    "\n",
    "param_test2 = {\n",
    " 'preprocessor__estimator__gamma':[i/10.0 for i in range(0,5)]\n",
    "}\n",
    "\n",
    "param_test3 = {\n",
    " 'preprocessor__estimator__max_depth':range(3,7,1),\n",
    " 'preprocessor__estimator__reg_alpha': range(0,50,8),\n",
    " 'preprocessor__estimator__reg_lambda': range(0,50,8)\n",
    "}\n",
    "\n",
    "param_opt = GridSearchCV(estimator=full_pipeline, param_grid=param_rn, scoring='f1', verbose=10)\n",
    "param_opt.fit(X_train, y_train.values.ravel())"
   ]
  },
  {
   "cell_type": "code",
   "execution_count": 17,
   "metadata": {},
   "outputs": [
    {
     "data": {
      "text/plain": [
       "{'preprocessor__estimator__bootstrap': True,\n",
       " 'preprocessor__estimator__max_depth': None,\n",
       " 'preprocessor__estimator__n_estimators': 200}"
      ]
     },
     "execution_count": 17,
     "metadata": {},
     "output_type": "execute_result"
    }
   ],
   "source": [
    "param_opt.best_params_"
   ]
  },
  {
   "cell_type": "code",
   "execution_count": 277,
   "metadata": {
    "colab": {
     "base_uri": "https://localhost:8080/",
     "height": 51
    },
    "colab_type": "code",
    "id": "XzW18o9lhS_x",
    "outputId": "c46db921-6322-46bf-cf28-f8dbecd72dbb"
   },
   "outputs": [
    {
     "name": "stdout",
     "output_type": "stream",
     "text": [
      "Wall time: 2min 32s\n"
     ]
    }
   ],
   "source": [
    "%%time \n",
    "\n",
    "full_pipeline.fit(features_df, labels_df.values.ravel())\n",
    "\n",
    "None   # So we don't print out the whole pipeline representation"
   ]
  },
  {
   "cell_type": "code",
   "execution_count": 279,
   "metadata": {
    "colab": {
     "base_uri": "https://localhost:8080/",
     "height": 34
    },
    "colab_type": "code",
    "id": "NSrik_r9hsxD",
    "outputId": "cb1e51db-434c-483d-d663-fe4f462645a2"
   },
   "outputs": [
    {
     "data": {
      "text/plain": [
       "array([1, 1, 1, ..., 1, 1, 1], dtype=int64)"
      ]
     },
     "execution_count": 279,
     "metadata": {},
     "output_type": "execute_result"
    }
   ],
   "source": [
    "test_score = full_pipeline.predict(test_features_df)\n",
    "test_score"
   ]
  },
  {
   "cell_type": "code",
   "execution_count": 280,
   "metadata": {
    "colab": {
     "base_uri": "https://localhost:8080/",
     "height": 34
    },
    "colab_type": "code",
    "id": "clanxMe6joMg",
    "outputId": "ba7293e5-904f-400b-f0b0-19c57cc3ad4d"
   },
   "outputs": [
    {
     "data": {
      "text/plain": [
       "(8576,)"
      ]
     },
     "execution_count": 280,
     "metadata": {},
     "output_type": "execute_result"
    }
   ],
   "source": [
    "test_score.shape"
   ]
  },
  {
   "cell_type": "code",
   "execution_count": 281,
   "metadata": {
    "colab": {
     "base_uri": "https://localhost:8080/",
     "height": 252
    },
    "colab_type": "code",
    "id": "7EVIbnMbkzrw",
    "outputId": "5356903e-9e79-481a-d28b-7054e96bc329"
   },
   "outputs": [
    {
     "name": "stdout",
     "output_type": "stream",
     "text": [
      "y_preds.shape: (8576, 1)\n"
     ]
    },
    {
     "data": {
      "text/html": [
       "<div>\n",
       "<style scoped>\n",
       "    .dataframe tbody tr th:only-of-type {\n",
       "        vertical-align: middle;\n",
       "    }\n",
       "\n",
       "    .dataframe tbody tr th {\n",
       "        vertical-align: top;\n",
       "    }\n",
       "\n",
       "    .dataframe thead th {\n",
       "        text-align: right;\n",
       "    }\n",
       "</style>\n",
       "<table border=\"1\" class=\"dataframe\">\n",
       "  <thead>\n",
       "    <tr style=\"text-align: right;\">\n",
       "      <th></th>\n",
       "      <th>label</th>\n",
       "    </tr>\n",
       "    <tr>\n",
       "      <th>tripid</th>\n",
       "      <th></th>\n",
       "    </tr>\n",
       "  </thead>\n",
       "  <tbody>\n",
       "    <tr>\n",
       "      <th>213284604</th>\n",
       "      <td>1</td>\n",
       "    </tr>\n",
       "    <tr>\n",
       "      <th>213286352</th>\n",
       "      <td>1</td>\n",
       "    </tr>\n",
       "    <tr>\n",
       "      <th>213293973</th>\n",
       "      <td>1</td>\n",
       "    </tr>\n",
       "    <tr>\n",
       "      <th>213294622</th>\n",
       "      <td>1</td>\n",
       "    </tr>\n",
       "    <tr>\n",
       "      <th>213298687</th>\n",
       "      <td>1</td>\n",
       "    </tr>\n",
       "  </tbody>\n",
       "</table>\n",
       "</div>"
      ],
      "text/plain": [
       "           label\n",
       "tripid          \n",
       "213284604      1\n",
       "213286352      1\n",
       "213293973      1\n",
       "213294622      1\n",
       "213298687      1"
      ]
     },
     "execution_count": 281,
     "metadata": {},
     "output_type": "execute_result"
    }
   ],
   "source": [
    "y_preds = pd.DataFrame(\n",
    "    {\n",
    "        # \"label\": test_score1[:,0],\n",
    "        \"label\": test_score,\n",
    "    },\n",
    "    index = test_features_df.index\n",
    ")\n",
    "print(\"y_preds.shape:\", y_preds.shape)\n",
    "y_preds.head()"
   ]
  },
  {
   "cell_type": "code",
   "execution_count": 282,
   "metadata": {
    "colab": {},
    "colab_type": "code",
    "id": "1cZIp7k0h2FW"
   },
   "outputs": [],
   "source": [
    "submission_df = pd.read_csv(\"sample_submission.csv\", \n",
    "                            index_col=\"tripid\")"
   ]
  },
  {
   "cell_type": "code",
   "execution_count": 283,
   "metadata": {
    "colab": {
     "base_uri": "https://localhost:8080/",
     "height": 235
    },
    "colab_type": "code",
    "id": "ouv_PqSwh_U1",
    "outputId": "01ac1f96-6e28-4b25-bd03-1c4a46e7de2d"
   },
   "outputs": [
    {
     "data": {
      "text/html": [
       "<div>\n",
       "<style scoped>\n",
       "    .dataframe tbody tr th:only-of-type {\n",
       "        vertical-align: middle;\n",
       "    }\n",
       "\n",
       "    .dataframe tbody tr th {\n",
       "        vertical-align: top;\n",
       "    }\n",
       "\n",
       "    .dataframe thead th {\n",
       "        text-align: right;\n",
       "    }\n",
       "</style>\n",
       "<table border=\"1\" class=\"dataframe\">\n",
       "  <thead>\n",
       "    <tr style=\"text-align: right;\">\n",
       "      <th></th>\n",
       "      <th>prediction</th>\n",
       "    </tr>\n",
       "    <tr>\n",
       "      <th>tripid</th>\n",
       "      <th></th>\n",
       "    </tr>\n",
       "  </thead>\n",
       "  <tbody>\n",
       "    <tr>\n",
       "      <th>213284604</th>\n",
       "      <td>1</td>\n",
       "    </tr>\n",
       "    <tr>\n",
       "      <th>213286352</th>\n",
       "      <td>0</td>\n",
       "    </tr>\n",
       "    <tr>\n",
       "      <th>213293973</th>\n",
       "      <td>0</td>\n",
       "    </tr>\n",
       "    <tr>\n",
       "      <th>213294622</th>\n",
       "      <td>1</td>\n",
       "    </tr>\n",
       "    <tr>\n",
       "      <th>213298687</th>\n",
       "      <td>1</td>\n",
       "    </tr>\n",
       "  </tbody>\n",
       "</table>\n",
       "</div>"
      ],
      "text/plain": [
       "           prediction\n",
       "tripid               \n",
       "213284604           1\n",
       "213286352           0\n",
       "213293973           0\n",
       "213294622           1\n",
       "213298687           1"
      ]
     },
     "execution_count": 283,
     "metadata": {},
     "output_type": "execute_result"
    }
   ],
   "source": [
    "submission_df.head()"
   ]
  },
  {
   "cell_type": "code",
   "execution_count": 284,
   "metadata": {
    "colab": {},
    "colab_type": "code",
    "id": "UvPw8rxoiCQl"
   },
   "outputs": [],
   "source": [
    "# Make sure we have the rows in the same order\n",
    "np.testing.assert_array_equal(test_features_df.index.values, \n",
    "                              submission_df.index.values)"
   ]
  },
  {
   "cell_type": "code",
   "execution_count": 285,
   "metadata": {
    "colab": {
     "base_uri": "https://localhost:8080/",
     "height": 235
    },
    "colab_type": "code",
    "id": "TEwjq-7kpJeL",
    "outputId": "81bc4b2c-c1b7-4f7d-8ed3-4b9ba3301c2d"
   },
   "outputs": [
    {
     "data": {
      "text/html": [
       "<div>\n",
       "<style scoped>\n",
       "    .dataframe tbody tr th:only-of-type {\n",
       "        vertical-align: middle;\n",
       "    }\n",
       "\n",
       "    .dataframe tbody tr th {\n",
       "        vertical-align: top;\n",
       "    }\n",
       "\n",
       "    .dataframe thead th {\n",
       "        text-align: right;\n",
       "    }\n",
       "</style>\n",
       "<table border=\"1\" class=\"dataframe\">\n",
       "  <thead>\n",
       "    <tr style=\"text-align: right;\">\n",
       "      <th></th>\n",
       "      <th>prediction</th>\n",
       "    </tr>\n",
       "    <tr>\n",
       "      <th>tripid</th>\n",
       "      <th></th>\n",
       "    </tr>\n",
       "  </thead>\n",
       "  <tbody>\n",
       "    <tr>\n",
       "      <th>213284604</th>\n",
       "      <td>1</td>\n",
       "    </tr>\n",
       "    <tr>\n",
       "      <th>213286352</th>\n",
       "      <td>1</td>\n",
       "    </tr>\n",
       "    <tr>\n",
       "      <th>213293973</th>\n",
       "      <td>1</td>\n",
       "    </tr>\n",
       "    <tr>\n",
       "      <th>213294622</th>\n",
       "      <td>1</td>\n",
       "    </tr>\n",
       "    <tr>\n",
       "      <th>213298687</th>\n",
       "      <td>1</td>\n",
       "    </tr>\n",
       "  </tbody>\n",
       "</table>\n",
       "</div>"
      ],
      "text/plain": [
       "           prediction\n",
       "tripid               \n",
       "213284604           1\n",
       "213286352           1\n",
       "213293973           1\n",
       "213294622           1\n",
       "213298687           1"
      ]
     },
     "execution_count": 285,
     "metadata": {},
     "output_type": "execute_result"
    }
   ],
   "source": [
    "# Save predictions to submission data frame\n",
    "submission_df[\"prediction\"] = test_score\n",
    "\n",
    "submission_df.head()"
   ]
  },
  {
   "cell_type": "code",
   "execution_count": 286,
   "metadata": {
    "colab": {},
    "colab_type": "code",
    "id": "BLdRLhxmiRxv"
   },
   "outputs": [],
   "source": [
    "submission_df.to_csv('my_submission13.csv', index=True)"
   ]
  },
  {
   "cell_type": "code",
   "execution_count": null,
   "metadata": {},
   "outputs": [],
   "source": []
  }
 ],
 "metadata": {
  "accelerator": "GPU",
  "colab": {
   "name": "MLPClassifier.ipynb",
   "provenance": []
  },
  "kernelspec": {
   "display_name": "Python 3",
   "language": "python",
   "name": "python3"
  },
  "language_info": {
   "codemirror_mode": {
    "name": "ipython",
    "version": 3
   },
   "file_extension": ".py",
   "mimetype": "text/x-python",
   "name": "python",
   "nbconvert_exporter": "python",
   "pygments_lexer": "ipython3",
   "version": "3.7.3"
  }
 },
 "nbformat": 4,
 "nbformat_minor": 1
}
